{
 "cells": [
  {
   "cell_type": "code",
   "execution_count": 28,
   "metadata": {},
   "outputs": [
    {
     "name": "stdout",
     "output_type": "stream",
     "text": [
      "The autoreload extension is already loaded. To reload it, use:\n",
      "  %reload_ext autoreload\n"
     ]
    }
   ],
   "source": [
    "%load_ext autoreload\n",
    "%autoreload 2"
   ]
  },
  {
   "cell_type": "code",
   "execution_count": 29,
   "metadata": {},
   "outputs": [],
   "source": [
    "import pandas as pd\n",
    "from functions import main_cleaning\n",
    "\n",
    "pd.set_option('display.max_columns', None) \n",
    "\n",
    "df_raw = pd.read_csv(\"dielectron.csv\")"
   ]
  },
  {
   "cell_type": "code",
   "execution_count": 30,
   "metadata": {},
   "outputs": [
    {
     "name": "stderr",
     "output_type": "stream",
     "text": [
      "e:\\Iván\\Documentos\\Clase\\Informatica\\Beca IronHack\\Temario\\PROYECTOS\\Proyecto_final_1710\\functions.py:12: SettingWithCopyWarning: \n",
      "A value is trying to be set on a copy of a slice from a DataFrame.\n",
      "Try using .loc[row_indexer,col_indexer] = value instead\n",
      "\n",
      "See the caveats in the documentation: https://pandas.pydata.org/pandas-docs/stable/user_guide/indexing.html#returning-a-view-versus-a-copy\n",
      "  df[\"is_same_charge\"] = df[\"Q1\"] == df[\"Q2\"]\n",
      "e:\\Iván\\Documentos\\Clase\\Informatica\\Beca IronHack\\Temario\\PROYECTOS\\Proyecto_final_1710\\functions.py:19: SettingWithCopyWarning: \n",
      "A value is trying to be set on a copy of a slice from a DataFrame.\n",
      "Try using .loc[row_indexer,col_indexer] = value instead\n",
      "\n",
      "See the caveats in the documentation: https://pandas.pydata.org/pandas-docs/stable/user_guide/indexing.html#returning-a-view-versus-a-copy\n",
      "  df[\"is_outlier\"] = False\n"
     ]
    }
   ],
   "source": [
    "df_cleaned = main_cleaning(df_raw)"
   ]
  },
  {
   "cell_type": "code",
   "execution_count": 31,
   "metadata": {},
   "outputs": [],
   "source": [
    "df_cleaned = df_cleaned.dropna()         # Solo lo hago en el df_cleaned de ML"
   ]
  },
  {
   "cell_type": "markdown",
   "metadata": {},
   "source": [
    "Results sin normnalizar -> (17.717622715597013, 12.581512831873468, 0.507506217561434)"
   ]
  },
  {
   "cell_type": "code",
   "execution_count": 32,
   "metadata": {},
   "outputs": [],
   "source": [
    "features = df_cleaned[[\"Run\", \"E1\", \"E2\", \"pt1\", \"pt2\", \"is_same_charge\", \"is_outlier\"]]\n",
    "target = df_cleaned[[\"M\"]]"
   ]
  },
  {
   "cell_type": "code",
   "execution_count": 33,
   "metadata": {},
   "outputs": [],
   "source": [
    "from sklearn.model_selection import train_test_split\n",
    "\n",
    "X_train, X_test, y_train, y_test = train_test_split(features, target, test_size=0.20, random_state=42)"
   ]
  },
  {
   "cell_type": "code",
   "execution_count": 34,
   "metadata": {},
   "outputs": [],
   "source": [
    "from sklearn.preprocessing import StandardScaler\n",
    "\n",
    "scaler = StandardScaler()\n",
    "\n",
    "X_train_scaled = scaler.fit_transform(X_train)        \n",
    "\n",
    "X_test_scaled = scaler.transform(X_test)"
   ]
  },
  {
   "cell_type": "code",
   "execution_count": 35,
   "metadata": {},
   "outputs": [],
   "source": [
    "X_train_scaled = pd.DataFrame(X_train_scaled, columns = X_train.columns)   \n",
    "X_test_scaled = pd.DataFrame(X_test_scaled, columns = X_test.columns)"
   ]
  },
  {
   "cell_type": "code",
   "execution_count": 36,
   "metadata": {},
   "outputs": [
    {
     "name": "stderr",
     "output_type": "stream",
     "text": [
      "c:\\Anaconda\\Lib\\site-packages\\sklearn\\base.py:1474: DataConversionWarning: A column-vector y was passed when a 1d array was expected. Please change the shape of y to (n_samples,), for example using ravel().\n",
      "  return fit_method(estimator, *args, **kwargs)\n",
      "c:\\Anaconda\\Lib\\site-packages\\sklearn\\utils\\validation.py:1300: DataConversionWarning: A column-vector y was passed when a 1d array was expected. Please change the shape of y to (n_samples, ), for example using ravel().\n",
      "  y = column_or_1d(y, warn=True)\n"
     ]
    },
    {
     "name": "stdout",
     "output_type": "stream",
     "text": [
      "\n",
      "Linear Regression:\n",
      "Mean Absolute Error: 14.250548828469833\n",
      "Root Mean Squared Error: 19.56772364886209\n",
      "R2: 0.39928224855042016\n",
      "\n",
      "Decision Tree:\n",
      "Mean Absolute Error: 14.461226792632266\n",
      "Root Mean Squared Error: 23.781447064544555\n",
      "R2: 0.11270832325313496\n",
      "\n",
      "Random Forest:\n",
      "Mean Absolute Error: 12.09402285524801\n",
      "Root Mean Squared Error: 17.09239477687192\n",
      "R2: 0.5416516385159558\n",
      "\n",
      "SVR:\n",
      "Mean Absolute Error: 11.444625132890126\n",
      "Root Mean Squared Error: 18.794095577451465\n",
      "R2: 0.4458431379475768\n",
      "\n",
      "Model Accuracy Comparison:\n",
      "Linear Regression: 0.3993\n",
      "Decision Tree: 0.1127\n",
      "Random Forest: 0.5417\n",
      "SVR: 0.4458\n",
      "\n",
      "Best performing model: Random Forest with accuracy 0.5417\n"
     ]
    }
   ],
   "source": [
    "from sklearn.ensemble import RandomForestRegressor\n",
    "from sklearn.linear_model import LinearRegression\n",
    "from sklearn.tree import DecisionTreeRegressor\n",
    "from sklearn.svm import SVR\n",
    "from sklearn.metrics import accuracy_score\n",
    "from sklearn.metrics import root_mean_squared_error, mean_absolute_error, r2_score\n",
    "\n",
    "# Define models\n",
    "models = {\n",
    "  'Linear Regression': LinearRegression(),\n",
    "  'Decision Tree': DecisionTreeRegressor(random_state=42),\n",
    "  'Random Forest': RandomForestRegressor(random_state=42, n_estimators=100),\n",
    "  'SVR': SVR(),\n",
    "}   \n",
    "\n",
    "# Train and evaluate models\n",
    "results = {}\n",
    "\n",
    "for name, model in models.items():\n",
    "  # Train the model\n",
    "    model.fit(X_train_scaled, y_train)\n",
    "  \n",
    "  # Make predictions\n",
    "    y_pred_scaled = model.predict(X_test_scaled)\n",
    "\n",
    "    mae_standardized = mean_absolute_error(y_test, y_pred_scaled)\n",
    "    mse_standardized = root_mean_squared_error(y_test, y_pred_scaled)\n",
    "    r2_standardized = r2_score(y_test, y_pred_scaled)\n",
    "  \n",
    "  # Store results\n",
    "    results[name] = {\n",
    "        'mae' : mae_standardized,\n",
    "        'mse' : mse_standardized,\n",
    "        'R2' : r2_standardized\n",
    "  }\n",
    "\n",
    "# Print results\n",
    "for name, result in results.items():\n",
    "  print(f\"\\n{name}:\")\n",
    "  print(f\"Mean Absolute Error: {result['mae']}\")\n",
    "  print(f\"Root Mean Squared Error: {result['mse']}\")\n",
    "  print(f\"R2: {result['R2']}\")\n",
    "\n",
    "# Compare R2_value\n",
    "r2_values = {name: result['R2'] for name, result in results.items()}\n",
    "best_model = max(r2_values, key=r2_values.get)\n",
    "\n",
    "print(\"\\nModel Accuracy Comparison:\")\n",
    "for name, accuracy in r2_values.items():\n",
    "  print(f\"{name}: {accuracy:.4f}\")\n",
    "\n",
    "print(f\"\\nBest performing model: {best_model} with accuracy {r2_values[best_model]:.4f}\")"
   ]
  }
 ],
 "metadata": {
  "kernelspec": {
   "display_name": "base",
   "language": "python",
   "name": "python3"
  },
  "language_info": {
   "codemirror_mode": {
    "name": "ipython",
    "version": 3
   },
   "file_extension": ".py",
   "mimetype": "text/x-python",
   "name": "python",
   "nbconvert_exporter": "python",
   "pygments_lexer": "ipython3",
   "version": "3.12.4"
  }
 },
 "nbformat": 4,
 "nbformat_minor": 2
}
