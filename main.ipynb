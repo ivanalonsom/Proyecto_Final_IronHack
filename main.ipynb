{
 "cells": [
  {
   "cell_type": "code",
   "execution_count": 35,
   "metadata": {},
   "outputs": [
    {
     "name": "stdout",
     "output_type": "stream",
     "text": [
      "The autoreload extension is already loaded. To reload it, use:\n",
      "  %reload_ext autoreload\n"
     ]
    }
   ],
   "source": [
    "%load_ext autoreload\n",
    "%autoreload 2"
   ]
  },
  {
   "cell_type": "code",
   "execution_count": 36,
   "metadata": {},
   "outputs": [],
   "source": [
    "import pandas as pd\n",
    "from functions import main_cleaning\n",
    "\n",
    "pd.set_option('display.max_columns', None) \n",
    "\n",
    "df_raw = pd.read_csv(\"dielectron.csv\")"
   ]
  },
  {
   "cell_type": "code",
   "execution_count": 37,
   "metadata": {},
   "outputs": [],
   "source": [
    "# both_diff = (((df_raw[\"Q1\"] == -1) & (df_raw[\"Q2\"] == 1) ) | ((df_raw[\"Q1\"] == 1) & (df_raw[\"Q2\"] == -1))).sum()\n",
    "# both_neg = ((df_raw[\"Q1\"] == -1) & (df_raw[\"Q2\"] == -1)).sum()\n",
    "# both_pos = ((df_raw[\"Q1\"] == 1) & (df_raw[\"Q2\"] == 1)).sum()\n",
    "\n",
    "# both_diff, both_neg, both_pos"
   ]
  },
  {
   "cell_type": "code",
   "execution_count": 38,
   "metadata": {},
   "outputs": [
    {
     "name": "stderr",
     "output_type": "stream",
     "text": [
      "e:\\Iván\\Documentos\\Clase\\Informatica\\Beca IronHack\\Temario\\PROYECTOS\\Proyecto_final_1710\\functions.py:12: SettingWithCopyWarning: \n",
      "A value is trying to be set on a copy of a slice from a DataFrame.\n",
      "Try using .loc[row_indexer,col_indexer] = value instead\n",
      "\n",
      "See the caveats in the documentation: https://pandas.pydata.org/pandas-docs/stable/user_guide/indexing.html#returning-a-view-versus-a-copy\n",
      "  df[\"is_same_charge\"] = df[\"q1\"] == df[\"q2\"]\n"
     ]
    }
   ],
   "source": [
    "df_cleaned = main_cleaning(df_raw)"
   ]
  },
  {
   "cell_type": "code",
   "execution_count": null,
   "metadata": {},
   "outputs": [],
   "source": [
    "df_cleaned"
   ]
  },
  {
   "cell_type": "code",
   "execution_count": 45,
   "metadata": {},
   "outputs": [],
   "source": [
    "#df_cleaned.to_csv(\"data/dielectron_cleaned.csv\", index=False)"
   ]
  },
  {
   "cell_type": "code",
   "execution_count": 40,
   "metadata": {},
   "outputs": [],
   "source": [
    "# df_raw[\"prueba_e1\"] = (df_raw[\"px1\"]**2 + df_raw[\"py1\"]**2 + df_raw[\"pz1\"]**2)**(1/2)"
   ]
  },
  {
   "cell_type": "code",
   "execution_count": 41,
   "metadata": {},
   "outputs": [],
   "source": [
    "# df_raw[df_raw[\"prueba_e1\"].between(df_raw[\"E1\"]*0.9999, df_raw[\"E1\"]*1.0001)]"
   ]
  },
  {
   "cell_type": "code",
   "execution_count": 42,
   "metadata": {},
   "outputs": [],
   "source": [
    "# df_raw[\"prueba_e2\"] = (df_raw[\"px2\"]**2 + df_raw[\"py2\"]**2 + df_raw[\"pz2\"]**2)**(1/2)"
   ]
  },
  {
   "cell_type": "code",
   "execution_count": 43,
   "metadata": {},
   "outputs": [],
   "source": [
    "# df_raw[df_raw[\"prueba_e2\"].between(df_raw[\"E2\"]*0.9999, df_raw[\"E2\"]*1.0001)]"
   ]
  },
  {
   "cell_type": "code",
   "execution_count": 44,
   "metadata": {},
   "outputs": [],
   "source": [
    "# import seaborn as sns\n",
    "# import matplotlib.pyplot as plt\n",
    "\n",
    "# plt.figure(figsize=(15, 12))\n",
    "# sns.heatmap(df_raw.corr(), cmap=\"Greens\", annot=True)"
   ]
  },
  {
   "cell_type": "code",
   "execution_count": null,
   "metadata": {},
   "outputs": [],
   "source": []
  }
 ],
 "metadata": {
  "kernelspec": {
   "display_name": "base",
   "language": "python",
   "name": "python3"
  },
  "language_info": {
   "codemirror_mode": {
    "name": "ipython",
    "version": 3
   },
   "file_extension": ".py",
   "mimetype": "text/x-python",
   "name": "python",
   "nbconvert_exporter": "python",
   "pygments_lexer": "ipython3",
   "version": "3.12.4"
  }
 },
 "nbformat": 4,
 "nbformat_minor": 2
}
