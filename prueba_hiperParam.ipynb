{
 "cells": [
  {
   "cell_type": "code",
   "execution_count": 63,
   "metadata": {},
   "outputs": [
    {
     "name": "stdout",
     "output_type": "stream",
     "text": [
      "The autoreload extension is already loaded. To reload it, use:\n",
      "  %reload_ext autoreload\n"
     ]
    }
   ],
   "source": [
    "%load_ext autoreload\n",
    "%autoreload 2"
   ]
  },
  {
   "cell_type": "code",
   "execution_count": 64,
   "metadata": {},
   "outputs": [],
   "source": [
    "import pandas as pd\n",
    "from functions import main_cleaning\n",
    "\n",
    "pd.set_option('display.max_columns', None) \n",
    "\n",
    "df_raw = pd.read_csv(\"dielectron.csv\")"
   ]
  },
  {
   "cell_type": "code",
   "execution_count": 65,
   "metadata": {},
   "outputs": [
    {
     "name": "stderr",
     "output_type": "stream",
     "text": [
      "e:\\Iván\\Documentos\\Clase\\Informatica\\Beca IronHack\\Temario\\PROYECTOS\\Proyecto_final_1710\\functions.py:12: SettingWithCopyWarning: \n",
      "A value is trying to be set on a copy of a slice from a DataFrame.\n",
      "Try using .loc[row_indexer,col_indexer] = value instead\n",
      "\n",
      "See the caveats in the documentation: https://pandas.pydata.org/pandas-docs/stable/user_guide/indexing.html#returning-a-view-versus-a-copy\n",
      "  df[\"is_same_charge\"] = df[\"Q1\"] == df[\"Q2\"]\n",
      "e:\\Iván\\Documentos\\Clase\\Informatica\\Beca IronHack\\Temario\\PROYECTOS\\Proyecto_final_1710\\functions.py:19: SettingWithCopyWarning: \n",
      "A value is trying to be set on a copy of a slice from a DataFrame.\n",
      "Try using .loc[row_indexer,col_indexer] = value instead\n",
      "\n",
      "See the caveats in the documentation: https://pandas.pydata.org/pandas-docs/stable/user_guide/indexing.html#returning-a-view-versus-a-copy\n",
      "  df[\"is_outlier\"] = False\n"
     ]
    }
   ],
   "source": [
    "df_cleaned = main_cleaning(df_raw)\n",
    "df_cleaned.reset_index(drop=True, inplace=True)"
   ]
  },
  {
   "cell_type": "markdown",
   "metadata": {},
   "source": [
    "# MACHINE LEARNING"
   ]
  },
  {
   "cell_type": "markdown",
   "metadata": {},
   "source": [
    "### Los resultados de MSE, MAE y R2 para KNN sin normalizar eran: \n",
    "MAE: 17.717622715597013  \n",
    "MSE: 12.581512831873468   \n",
    "R2: 0.507506217561434  \n",
    "### So I will normalize/standarize."
   ]
  },
  {
   "cell_type": "code",
   "execution_count": 66,
   "metadata": {},
   "outputs": [],
   "source": [
    "df_ml = df_cleaned.dropna()"
   ]
  },
  {
   "cell_type": "code",
   "execution_count": 67,
   "metadata": {},
   "outputs": [],
   "source": [
    "from sklearn.ensemble import RandomForestRegressor\n",
    "from sklearn.preprocessing import StandardScaler\n",
    "from sklearn.neighbors import KNeighborsRegressor\n",
    "from sklearn.linear_model import LinearRegression\n",
    "from sklearn.tree import DecisionTreeRegressor\n",
    "from sklearn.svm import SVR\n",
    "from sklearn.metrics import root_mean_squared_error, mean_absolute_error, r2_score"
   ]
  },
  {
   "cell_type": "code",
   "execution_count": 68,
   "metadata": {},
   "outputs": [
    {
     "ename": "KeyError",
     "evalue": "\"['Q1pz1'] not in index\"",
     "output_type": "error",
     "traceback": [
      "\u001b[1;31m---------------------------------------------------------------------------\u001b[0m",
      "\u001b[1;31mKeyError\u001b[0m                                  Traceback (most recent call last)",
      "Cell \u001b[1;32mIn[68], line 1\u001b[0m\n\u001b[1;32m----> 1\u001b[0m features_lower \u001b[38;5;241m=\u001b[39m df_ml[[\u001b[38;5;124m\"\u001b[39m\u001b[38;5;124mRun\u001b[39m\u001b[38;5;124m\"\u001b[39m, \u001b[38;5;124m\"\u001b[39m\u001b[38;5;124mQ1\u001b[39m\u001b[38;5;124m\"\u001b[39m \u001b[38;5;124m\"\u001b[39m\u001b[38;5;124mpz1\u001b[39m\u001b[38;5;124m\"\u001b[39m, \u001b[38;5;124m\"\u001b[39m\u001b[38;5;124mpz2\u001b[39m\u001b[38;5;124m\"\u001b[39m, \u001b[38;5;124m\"\u001b[39m\u001b[38;5;124mQ2\u001b[39m\u001b[38;5;124m\"\u001b[39m, \u001b[38;5;124m\"\u001b[39m\u001b[38;5;124mis_outlier\u001b[39m\u001b[38;5;124m\"\u001b[39m]]\n\u001b[0;32m      2\u001b[0m target_lower \u001b[38;5;241m=\u001b[39m df_ml[[\u001b[38;5;124m\"\u001b[39m\u001b[38;5;124mM\u001b[39m\u001b[38;5;124m\"\u001b[39m]]\n",
      "File \u001b[1;32mc:\\Anaconda\\Lib\\site-packages\\pandas\\core\\frame.py:4108\u001b[0m, in \u001b[0;36mDataFrame.__getitem__\u001b[1;34m(self, key)\u001b[0m\n\u001b[0;32m   4106\u001b[0m     \u001b[38;5;28;01mif\u001b[39;00m is_iterator(key):\n\u001b[0;32m   4107\u001b[0m         key \u001b[38;5;241m=\u001b[39m \u001b[38;5;28mlist\u001b[39m(key)\n\u001b[1;32m-> 4108\u001b[0m     indexer \u001b[38;5;241m=\u001b[39m \u001b[38;5;28mself\u001b[39m\u001b[38;5;241m.\u001b[39mcolumns\u001b[38;5;241m.\u001b[39m_get_indexer_strict(key, \u001b[38;5;124m\"\u001b[39m\u001b[38;5;124mcolumns\u001b[39m\u001b[38;5;124m\"\u001b[39m)[\u001b[38;5;241m1\u001b[39m]\n\u001b[0;32m   4110\u001b[0m \u001b[38;5;66;03m# take() does not accept boolean indexers\u001b[39;00m\n\u001b[0;32m   4111\u001b[0m \u001b[38;5;28;01mif\u001b[39;00m \u001b[38;5;28mgetattr\u001b[39m(indexer, \u001b[38;5;124m\"\u001b[39m\u001b[38;5;124mdtype\u001b[39m\u001b[38;5;124m\"\u001b[39m, \u001b[38;5;28;01mNone\u001b[39;00m) \u001b[38;5;241m==\u001b[39m \u001b[38;5;28mbool\u001b[39m:\n",
      "File \u001b[1;32mc:\\Anaconda\\Lib\\site-packages\\pandas\\core\\indexes\\base.py:6200\u001b[0m, in \u001b[0;36mIndex._get_indexer_strict\u001b[1;34m(self, key, axis_name)\u001b[0m\n\u001b[0;32m   6197\u001b[0m \u001b[38;5;28;01melse\u001b[39;00m:\n\u001b[0;32m   6198\u001b[0m     keyarr, indexer, new_indexer \u001b[38;5;241m=\u001b[39m \u001b[38;5;28mself\u001b[39m\u001b[38;5;241m.\u001b[39m_reindex_non_unique(keyarr)\n\u001b[1;32m-> 6200\u001b[0m \u001b[38;5;28mself\u001b[39m\u001b[38;5;241m.\u001b[39m_raise_if_missing(keyarr, indexer, axis_name)\n\u001b[0;32m   6202\u001b[0m keyarr \u001b[38;5;241m=\u001b[39m \u001b[38;5;28mself\u001b[39m\u001b[38;5;241m.\u001b[39mtake(indexer)\n\u001b[0;32m   6203\u001b[0m \u001b[38;5;28;01mif\u001b[39;00m \u001b[38;5;28misinstance\u001b[39m(key, Index):\n\u001b[0;32m   6204\u001b[0m     \u001b[38;5;66;03m# GH 42790 - Preserve name from an Index\u001b[39;00m\n",
      "File \u001b[1;32mc:\\Anaconda\\Lib\\site-packages\\pandas\\core\\indexes\\base.py:6252\u001b[0m, in \u001b[0;36mIndex._raise_if_missing\u001b[1;34m(self, key, indexer, axis_name)\u001b[0m\n\u001b[0;32m   6249\u001b[0m     \u001b[38;5;28;01mraise\u001b[39;00m \u001b[38;5;167;01mKeyError\u001b[39;00m(\u001b[38;5;124mf\u001b[39m\u001b[38;5;124m\"\u001b[39m\u001b[38;5;124mNone of [\u001b[39m\u001b[38;5;132;01m{\u001b[39;00mkey\u001b[38;5;132;01m}\u001b[39;00m\u001b[38;5;124m] are in the [\u001b[39m\u001b[38;5;132;01m{\u001b[39;00maxis_name\u001b[38;5;132;01m}\u001b[39;00m\u001b[38;5;124m]\u001b[39m\u001b[38;5;124m\"\u001b[39m)\n\u001b[0;32m   6251\u001b[0m not_found \u001b[38;5;241m=\u001b[39m \u001b[38;5;28mlist\u001b[39m(ensure_index(key)[missing_mask\u001b[38;5;241m.\u001b[39mnonzero()[\u001b[38;5;241m0\u001b[39m]]\u001b[38;5;241m.\u001b[39munique())\n\u001b[1;32m-> 6252\u001b[0m \u001b[38;5;28;01mraise\u001b[39;00m \u001b[38;5;167;01mKeyError\u001b[39;00m(\u001b[38;5;124mf\u001b[39m\u001b[38;5;124m\"\u001b[39m\u001b[38;5;132;01m{\u001b[39;00mnot_found\u001b[38;5;132;01m}\u001b[39;00m\u001b[38;5;124m not in index\u001b[39m\u001b[38;5;124m\"\u001b[39m)\n",
      "\u001b[1;31mKeyError\u001b[0m: \"['Q1pz1'] not in index\""
     ]
    }
   ],
   "source": [
    "features_lower = df_ml[[\"Run\", \"Q1\", \"pz1\", \"pz2\", \"Q2\", \"is_outlier\"]]\n",
    "target_lower = df_ml[[\"M\"]]"
   ]
  },
  {
   "cell_type": "code",
   "execution_count": 51,
   "metadata": {},
   "outputs": [],
   "source": [
    "from sklearn.model_selection import train_test_split\n",
    "\n",
    "X_train_lower, X_test_lower, y_train_lower, y_test_lower = train_test_split(features_lower, target_lower, test_size=0.20, random_state=42)"
   ]
  },
  {
   "cell_type": "code",
   "execution_count": 52,
   "metadata": {},
   "outputs": [],
   "source": [
    "scaler_lower = StandardScaler()\n",
    "\n",
    "X_train_lower_scaled = scaler_lower.fit_transform(X_train_lower)        \n",
    "\n",
    "X_test_lower_scaled = scaler_lower.transform(X_test_lower)"
   ]
  },
  {
   "cell_type": "code",
   "execution_count": 53,
   "metadata": {},
   "outputs": [],
   "source": [
    "X_train_lower_scaled = pd.DataFrame(X_train_lower_scaled, columns = X_train_lower.columns)   \n",
    "X_test_lower_scaled = pd.DataFrame(X_test_lower_scaled, columns = X_test_lower.columns)"
   ]
  },
  {
   "cell_type": "code",
   "execution_count": 54,
   "metadata": {},
   "outputs": [],
   "source": [
    "# from sklearn.ensemble import RandomForestRegressor\n",
    "# from sklearn.preprocessing import StandardScaler\n",
    "# from sklearn.neighbors import KNeighborsRegressor\n",
    "# from sklearn.linear_model import LinearRegression\n",
    "# from sklearn.tree import DecisionTreeRegressor\n",
    "# from sklearn.svm import SVR\n",
    "# from sklearn.metrics import root_mean_squared_error, mean_absolute_error, r2_score\n",
    "# import xgboost as xgb\n",
    "\n",
    "# # Define models\n",
    "# models = {\n",
    "#   'KNeighborsRegressor': KNeighborsRegressor(),\n",
    "#   'Linear Regression': LinearRegression(),\n",
    "#   'Decision Tree': DecisionTreeRegressor(random_state=42),\n",
    "#   'Random Forest': RandomForestRegressor(random_state=42, n_estimators=100),\n",
    "#   'SVR': SVR(),\n",
    "#   'XGBoost': xgb.XGBRegressor()\n",
    "# }   \n",
    "\n",
    "# # Train and evaluate models\n",
    "# results = {}\n",
    "\n",
    "# for name, model in models.items():\n",
    "#   # Train the model\n",
    "#     model.fit(X_train_lower_scaled, y_train_lower)\n",
    "  \n",
    "#   # Make predictions\n",
    "#     y_pred_lower_scaled = model.predict(X_test_lower_scaled)\n",
    "\n",
    "#     mae_standardized = mean_absolute_error(y_test_lower, y_pred_lower_scaled)\n",
    "#     mse_standardized = root_mean_squared_error(y_test_lower, y_pred_lower_scaled)\n",
    "#     r2_standardized = r2_score(y_test_lower, y_pred_lower_scaled)\n",
    "  \n",
    "#   # Store results\n",
    "#     results[name] = {\n",
    "#         'mae' : mae_standardized,\n",
    "#         'mse' : mse_standardized,\n",
    "#         'R2' : r2_standardized\n",
    "#   }\n",
    "\n",
    "# # Print results\n",
    "# for name, result in results.items():\n",
    "#   print(f\"\\n{name}:\")\n",
    "#   print(f\"Mean Absolute Error: {result['mae']}\")\n",
    "#   print(f\"Root Mean Squared Error: {result['mse']}\")\n",
    "#   print(f\"R2: {result['R2']}\")\n",
    "\n",
    "# # Compare R2_value\n",
    "# r2_values = {name: result['R2'] for name, result in results.items()}\n",
    "# best_model = max(r2_values, key=r2_values.get)\n",
    "\n",
    "# print(\"\\nModel Accuracy Comparison:\")\n",
    "# for name, accuracy in r2_values.items():\n",
    "#   print(f\"{name}: {accuracy:.4f}\")\n",
    "\n",
    "# print(f\"\\nBest performing model: {best_model} with accuracy {r2_values[best_model]:.4f}\")"
   ]
  },
  {
   "cell_type": "markdown",
   "metadata": {},
   "source": [
    "### CON TODO \n",
    "Random Forest:\n",
    "Mean Absolute Error: 2.3478761082736876  \n",
    "Root Mean Squared Error: 3.918134937140667  \n",
    "R2: 0.9759148902055805  \n",
    "\n",
    "XGBoost:\n",
    "Mean Absolute Error: 2.6338879782682474  \n",
    "Root Mean Squared Error: 3.783981831730138  \n",
    "R2: 0.9775359561492042  \n",
    "\n",
    "### SOLO PZ"
   ]
  },
  {
   "cell_type": "code",
   "execution_count": 55,
   "metadata": {},
   "outputs": [],
   "source": [
    "# from sklearn.model_selection import RandomizedSearchCV\n",
    "# import numpy as np\n",
    "\n",
    "# rf_lower = RandomForestRegressor()\n",
    "\n",
    "# grid = {\n",
    "#     \"n_estimators\": [int(x) for x in np.linspace(start=10, stop=210, num=10)],\n",
    "#     \"max_depth\": [None, 5],\n",
    "#     \"max_leaf_nodes\": [None, 10, 50, 100],\n",
    "#     \"min_samples_split\": [2, 5, 10],\n",
    "#     \"min_samples_leaf\": [1, 2, 5]\n",
    "# }\n",
    "\n",
    "\n",
    "# model = RandomizedSearchCV(estimator = rf_lower, param_distributions = grid, n_iter = 10, cv = 5, n_jobs = -1) \n"
   ]
  },
  {
   "cell_type": "markdown",
   "metadata": {},
   "source": [
    "Solo pz con ese grid -> (9.478894753076418, 15.181723878082533, 0.6383969959427274)  \n",
    "\n",
    "Best params:  \n",
    "{'n_estimators': 143,\n",
    " 'min_samples_split': 10,\n",
    " 'min_samples_leaf': 5,\n",
    " 'max_leaf_nodes': 100,\n",
    " 'max_depth': None}"
   ]
  },
  {
   "cell_type": "code",
   "execution_count": 56,
   "metadata": {},
   "outputs": [],
   "source": [
    "from sklearn.model_selection import RandomizedSearchCV\n",
    "import numpy as np\n",
    "import xgboost as xgb\n",
    "\n",
    "xg_lower = xgb.XGBRegressor()\n",
    "\n",
    "grid = {\n",
    "    'n_estimators': [100, 200, 300, 400, 500],            # Número de árboles\n",
    "    'max_depth': [3, 5, 7, 9, 11],                        # Profundidad máxima de los árboles\n",
    "    'learning_rate': [0.01, 0.05, 0.1, 0.2, 0.3],        # Tasa de aprendizaje\n",
    "    'subsample': [0.6, 0.8, 1.0],                         # Proporción de muestras utilizadas para entrenar\n",
    "    'colsample_bytree': [0.6, 0.8, 1.0],                 # Proporción de características utilizadas para entrenar\n",
    "    'gamma': [0, 0.1, 0.2, 0.3],                          # Reducción de pérdida requerida para hacer una partición adicional\n",
    "    'reg_alpha': [0, 0.1, 1, 10],                         # Regularización L1\n",
    "    'reg_lambda': [0, 0.1, 1, 10]                        # Regularización L2\n",
    "}\n",
    "\n",
    "\n",
    "model = RandomizedSearchCV(estimator = xg_lower, param_distributions = grid, n_iter = 10, cv = 5, n_jobs = -1) "
   ]
  },
  {
   "cell_type": "code",
   "execution_count": 57,
   "metadata": {},
   "outputs": [],
   "source": [
    "# model.best_params_"
   ]
  },
  {
   "cell_type": "code",
   "execution_count": 58,
   "metadata": {},
   "outputs": [
    {
     "data": {
      "text/plain": [
       "(9.169353184015405, 14.906887308065759, 0.6513707755273004)"
      ]
     },
     "execution_count": 58,
     "metadata": {},
     "output_type": "execute_result"
    }
   ],
   "source": [
    "model.fit(X_train_lower_scaled, y_train_lower)\n",
    "  \n",
    "y_pred_lower_scaled = model.predict(X_test_lower_scaled)\n",
    "\n",
    "mae_standardized = mean_absolute_error(y_test_lower, y_pred_lower_scaled)\n",
    "mse_standardized = root_mean_squared_error(y_test_lower, y_pred_lower_scaled)\n",
    "r2_standardized = r2_score(y_test_lower, y_pred_lower_scaled)\n",
    "\n",
    "mae_standardized, mse_standardized, r2_standardized"
   ]
  },
  {
   "cell_type": "code",
   "execution_count": 59,
   "metadata": {},
   "outputs": [],
   "source": [
    "# model.best_params_"
   ]
  },
  {
   "cell_type": "code",
   "execution_count": 60,
   "metadata": {},
   "outputs": [
    {
     "data": {
      "text/plain": [
       "(9.05175301056049, 14.708094083162141, 0.6608511588229353)"
      ]
     },
     "execution_count": 60,
     "metadata": {},
     "output_type": "execute_result"
    }
   ],
   "source": [
    "features_scaled = scaler_lower.transform(features_lower)\n",
    "\n",
    "y_pred_lower_real = model.predict(features_scaled)\n",
    "\n",
    "mae_standardized = mean_absolute_error(target_lower, y_pred_lower_real)\n",
    "mse_standardized = root_mean_squared_error(target_lower, y_pred_lower_real)\n",
    "r2_standardized = r2_score(target_lower, y_pred_lower_real)\n",
    "\n",
    "mae_standardized, mse_standardized, r2_standardized"
   ]
  },
  {
   "cell_type": "code",
   "execution_count": 61,
   "metadata": {},
   "outputs": [
    {
     "name": "stdout",
     "output_type": "stream",
     "text": [
      "Cross-validated R2 scores: [0.66011916 0.65262453 0.65122104 0.6492082  0.63502745]\n",
      "Mean cross-validated R2: 0.6496400767316656\n"
     ]
    }
   ],
   "source": [
    "from sklearn.model_selection import cross_val_score\n",
    "\n",
    "# Aplicamos la validación cruzada en el conjunto de entrenamiento\n",
    "scores = cross_val_score(model, X_train_lower_scaled, y_train_lower, cv=5, scoring='r2')\n",
    "\n",
    "print(\"Cross-validated R2 scores:\", scores)\n",
    "print(\"Mean cross-validated R2:\", scores.mean())\n"
   ]
  },
  {
   "cell_type": "markdown",
   "metadata": {},
   "source": [
    "Sin px -> Mean cross-validated R2: 0.8715048380715927\n",
    "\n",
    "Sin px ni py -> Mean cross-validated R2: 0.6095551354410731\n",
    "\n",
    "Sin px ni py (XGBoost) -> Mean cross-validated R2: 0.6483473040652855\n"
   ]
  },
  {
   "cell_type": "markdown",
   "metadata": {},
   "source": []
  }
 ],
 "metadata": {
  "kernelspec": {
   "display_name": "base",
   "language": "python",
   "name": "python3"
  },
  "language_info": {
   "codemirror_mode": {
    "name": "ipython",
    "version": 3
   },
   "file_extension": ".py",
   "mimetype": "text/x-python",
   "name": "python",
   "nbconvert_exporter": "python",
   "pygments_lexer": "ipython3",
   "version": "3.12.4"
  }
 },
 "nbformat": 4,
 "nbformat_minor": 2
}
